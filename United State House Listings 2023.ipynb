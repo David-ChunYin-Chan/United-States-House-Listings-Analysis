{
 "cells": [
  {
   "cell_type": "markdown",
   "id": "36e2c839",
   "metadata": {},
   "source": [
    "# Introduction"
   ]
  },
  {
   "cell_type": "markdown",
   "id": "78beb59e",
   "metadata": {},
   "source": [
    "The year 2023 has been marked by economic instability, characterized by high inflation and interest rates, significantly impacting daily life. Given that housing constitutes the largest portion of household expenses, it is evident that these economic factors would exert a substantial influence on the housing market. As we approach the end of 2023, it is opportune to conduct a comprehensive overview of the US housing market, leveraging data from Zillow, a prominent online real estate marketplace that encompasses information on approximately 100 million homes. <br>\n",
    "\n",
    "This project aims to visualize and conduct a high-level analysis of the US housing market using a dataset comprising around 25,000 listings sourced from Zillow. The dataset encompasses a diverse range of housing characteristics across different states. The initial phase involves data cleaning using Pandas in Python, followed by visualization of the dataset using Power BI. This dual approach allows for a robust examination of trends and patterns within the housing market, providing insights into the potential impact of economic conditions on the real estate landscape."
   ]
  },
  {
   "cell_type": "markdown",
   "id": "780da24d",
   "metadata": {},
   "source": [
    "# Acknowledgement"
   ]
  },
  {
   "cell_type": "markdown",
   "id": "488e166d",
   "metadata": {},
   "source": [
    "The dataset utilized in this project has been sourced from the Kaggle dataset titled \"United States House Listings: Zillow Extract 2023,\" generously contributed by Febin Philips. For those interested, the dataset can be accessed at the following Kaggle link: https://www.kaggle.com/datasets/febinphilips/us-house-listings-2023. <br>\n",
    "\n",
    "Furthermore, it's important to note that the house listings originate from Zillow, a well-known online real estate marketplace. The Zillow platform, available at https://www.zillow.com/, serves as a comprehensive source for real estate data, playing a crucial role in this project's exploration and analysis of the US housing market."
   ]
  },
  {
   "cell_type": "markdown",
   "id": "6542feb8",
   "metadata": {},
   "source": [
    "# 1: Import Libraires"
   ]
  },
  {
   "cell_type": "code",
   "execution_count": 2,
   "id": "bc7b1b53",
   "metadata": {},
   "outputs": [],
   "source": [
    "import pandas as pd\n",
    "import numpy as np"
   ]
  },
  {
   "cell_type": "markdown",
   "id": "7545c0f6",
   "metadata": {},
   "source": [
    "# 2: Data Cleaning"
   ]
  },
  {
   "cell_type": "markdown",
   "id": "529dae7b",
   "metadata": {},
   "source": [
    "## 2.1: Load Dataframe"
   ]
  },
  {
   "cell_type": "code",
   "execution_count": 3,
   "id": "8e6f62e2",
   "metadata": {},
   "outputs": [],
   "source": [
    "original_df = pd.read_csv('original_extracted_df.csv')"
   ]
  },
  {
   "cell_type": "code",
   "execution_count": 4,
   "id": "ffa462d9",
   "metadata": {},
   "outputs": [],
   "source": [
    "df = original_df.copy()"
   ]
  },
  {
   "cell_type": "code",
   "execution_count": 5,
   "id": "6d3af3ad",
   "metadata": {},
   "outputs": [
    {
     "data": {
      "text/html": [
       "<div>\n",
       "<style scoped>\n",
       "    .dataframe tbody tr th:only-of-type {\n",
       "        vertical-align: middle;\n",
       "    }\n",
       "\n",
       "    .dataframe tbody tr th {\n",
       "        vertical-align: top;\n",
       "    }\n",
       "\n",
       "    .dataframe thead th {\n",
       "        text-align: right;\n",
       "    }\n",
       "</style>\n",
       "<table border=\"1\" class=\"dataframe\">\n",
       "  <thead>\n",
       "    <tr style=\"text-align: right;\">\n",
       "      <th></th>\n",
       "      <th>State</th>\n",
       "      <th>City</th>\n",
       "      <th>Street</th>\n",
       "      <th>Zipcode</th>\n",
       "      <th>Latitude</th>\n",
       "      <th>Longitude</th>\n",
       "      <th>Bedroom</th>\n",
       "      <th>Bathroom</th>\n",
       "      <th>Area</th>\n",
       "      <th>PPSq</th>\n",
       "      <th>LotArea</th>\n",
       "      <th>ConvertedLot</th>\n",
       "      <th>LotUnit</th>\n",
       "      <th>MarketEstimate</th>\n",
       "      <th>RentEstimate</th>\n",
       "      <th>Price</th>\n",
       "    </tr>\n",
       "  </thead>\n",
       "  <tbody>\n",
       "    <tr>\n",
       "      <th>0</th>\n",
       "      <td>AL</td>\n",
       "      <td>Saraland</td>\n",
       "      <td>Scott Dr</td>\n",
       "      <td>36571.0</td>\n",
       "      <td>30.819534</td>\n",
       "      <td>-88.095960</td>\n",
       "      <td>4.0</td>\n",
       "      <td>2.0</td>\n",
       "      <td>1614.0</td>\n",
       "      <td>148.636927</td>\n",
       "      <td>0.38050</td>\n",
       "      <td>0.38050</td>\n",
       "      <td>acres</td>\n",
       "      <td>240600.0</td>\n",
       "      <td>1599.0</td>\n",
       "      <td>239900.0</td>\n",
       "    </tr>\n",
       "    <tr>\n",
       "      <th>1</th>\n",
       "      <td>AL</td>\n",
       "      <td>Southside</td>\n",
       "      <td>Big Oak Dr W</td>\n",
       "      <td>35907.0</td>\n",
       "      <td>33.881050</td>\n",
       "      <td>-86.012436</td>\n",
       "      <td>3.0</td>\n",
       "      <td>2.0</td>\n",
       "      <td>1474.0</td>\n",
       "      <td>0.000678</td>\n",
       "      <td>0.67034</td>\n",
       "      <td>0.67034</td>\n",
       "      <td>acres</td>\n",
       "      <td>186700.0</td>\n",
       "      <td>1381.0</td>\n",
       "      <td>1.0</td>\n",
       "    </tr>\n",
       "    <tr>\n",
       "      <th>2</th>\n",
       "      <td>AL</td>\n",
       "      <td>Robertsdale</td>\n",
       "      <td>Cowpen Creek Rd</td>\n",
       "      <td>36567.0</td>\n",
       "      <td>30.590004</td>\n",
       "      <td>-87.580376</td>\n",
       "      <td>3.0</td>\n",
       "      <td>2.0</td>\n",
       "      <td>1800.0</td>\n",
       "      <td>144.388889</td>\n",
       "      <td>3.20000</td>\n",
       "      <td>3.20000</td>\n",
       "      <td>acres</td>\n",
       "      <td>NaN</td>\n",
       "      <td>NaN</td>\n",
       "      <td>259900.0</td>\n",
       "    </tr>\n",
       "    <tr>\n",
       "      <th>3</th>\n",
       "      <td>AL</td>\n",
       "      <td>Gulf Shores</td>\n",
       "      <td>Spinnaker Dr #201</td>\n",
       "      <td>36542.0</td>\n",
       "      <td>30.284956</td>\n",
       "      <td>-87.747920</td>\n",
       "      <td>2.0</td>\n",
       "      <td>2.0</td>\n",
       "      <td>1250.0</td>\n",
       "      <td>274.000000</td>\n",
       "      <td>NaN</td>\n",
       "      <td>NaN</td>\n",
       "      <td>NaN</td>\n",
       "      <td>NaN</td>\n",
       "      <td>NaN</td>\n",
       "      <td>342500.0</td>\n",
       "    </tr>\n",
       "    <tr>\n",
       "      <th>4</th>\n",
       "      <td>AL</td>\n",
       "      <td>Chelsea</td>\n",
       "      <td>Mallet Way</td>\n",
       "      <td>35043.0</td>\n",
       "      <td>33.357986</td>\n",
       "      <td>-86.608700</td>\n",
       "      <td>3.0</td>\n",
       "      <td>3.0</td>\n",
       "      <td>2224.0</td>\n",
       "      <td>150.629496</td>\n",
       "      <td>0.26000</td>\n",
       "      <td>0.26000</td>\n",
       "      <td>acres</td>\n",
       "      <td>336200.0</td>\n",
       "      <td>1932.0</td>\n",
       "      <td>335000.0</td>\n",
       "    </tr>\n",
       "  </tbody>\n",
       "</table>\n",
       "</div>"
      ],
      "text/plain": [
       "  State         City             Street  Zipcode   Latitude  Longitude  \\\n",
       "0    AL     Saraland           Scott Dr  36571.0  30.819534 -88.095960   \n",
       "1    AL    Southside       Big Oak Dr W  35907.0  33.881050 -86.012436   \n",
       "2    AL  Robertsdale    Cowpen Creek Rd  36567.0  30.590004 -87.580376   \n",
       "3    AL  Gulf Shores  Spinnaker Dr #201  36542.0  30.284956 -87.747920   \n",
       "4    AL      Chelsea         Mallet Way  35043.0  33.357986 -86.608700   \n",
       "\n",
       "   Bedroom  Bathroom    Area        PPSq  LotArea  ConvertedLot LotUnit  \\\n",
       "0      4.0       2.0  1614.0  148.636927  0.38050       0.38050   acres   \n",
       "1      3.0       2.0  1474.0    0.000678  0.67034       0.67034   acres   \n",
       "2      3.0       2.0  1800.0  144.388889  3.20000       3.20000   acres   \n",
       "3      2.0       2.0  1250.0  274.000000      NaN           NaN     NaN   \n",
       "4      3.0       3.0  2224.0  150.629496  0.26000       0.26000   acres   \n",
       "\n",
       "   MarketEstimate  RentEstimate     Price  \n",
       "0        240600.0        1599.0  239900.0  \n",
       "1        186700.0        1381.0       1.0  \n",
       "2             NaN           NaN  259900.0  \n",
       "3             NaN           NaN  342500.0  \n",
       "4        336200.0        1932.0  335000.0  "
      ]
     },
     "execution_count": 5,
     "metadata": {},
     "output_type": "execute_result"
    }
   ],
   "source": [
    "df.head()"
   ]
  },
  {
   "cell_type": "markdown",
   "id": "9eed5104",
   "metadata": {},
   "source": [
    "Here are the column description provided by Febin from the Kaggle Datasets:\n",
    "- State: The state in which the property is located (AL:Alabama) . Includes all US states except Hawaii.\n",
    "- City: The city where the property is situated.\n",
    "- Street: The street address of the property.\n",
    "- Zipcode: The postal code associated with the property.\n",
    "- Latitude: The latitude coordinates of the property.\n",
    "- Longitude: The longitude coordinates of the property.\n",
    "- Bedroom: The number of bedrooms in the house.\n",
    "- Bathroom: The number of bathrooms in the house.\n",
    "- Area(sqft): The total area of the house.\n",
    "- PPSq(Price Per Square Foot): The cost per square foot of the property.\n",
    "- LotArea(acres or sqft): The total land area associated with the property, in the unit indicated in the column LotUnit.\n",
    "- ConvertedLot(acres): Converted LotArea with the consistent unit of acres\n",
    "- LotUnit: The unit used in LotArea.\n",
    "- MarketEstimate(Dollars \\\\$): Estimated market value of the property. This value is estimated using Zillow's own algorithm.\n",
    "- RentEstimate(Dollars \\\\$): Estimated rental value of the property. This value is estimated using Zillow's own algorithm.\n",
    "- Price(Dollars \\\\$): The listed price of the property."
   ]
  },
  {
   "cell_type": "code",
   "execution_count": 6,
   "id": "cbccb4a8",
   "metadata": {},
   "outputs": [],
   "source": [
    "# Drop empty rows (all with nan)\n",
    "df = df.dropna(axis=0, how='all')"
   ]
  },
  {
   "cell_type": "code",
   "execution_count": 7,
   "id": "0b2c9948",
   "metadata": {},
   "outputs": [
    {
     "name": "stdout",
     "output_type": "stream",
     "text": [
      "<class 'pandas.core.frame.DataFrame'>\n",
      "Int64Index: 24135 entries, 0 to 24520\n",
      "Data columns (total 16 columns):\n",
      " #   Column          Non-Null Count  Dtype  \n",
      "---  ------          --------------  -----  \n",
      " 0   State           24135 non-null  object \n",
      " 1   City            24135 non-null  object \n",
      " 2   Street          24104 non-null  object \n",
      " 3   Zipcode         24135 non-null  float64\n",
      " 4   Latitude        24135 non-null  float64\n",
      " 5   Longitude       24135 non-null  float64\n",
      " 6   Bedroom         23456 non-null  float64\n",
      " 7   Bathroom        23524 non-null  float64\n",
      " 8   Area            23029 non-null  float64\n",
      " 9   PPSq            22784 non-null  float64\n",
      " 10  LotArea         23103 non-null  float64\n",
      " 11  ConvertedLot    23103 non-null  float64\n",
      " 12  LotUnit         23103 non-null  object \n",
      " 13  MarketEstimate  15927 non-null  float64\n",
      " 14  RentEstimate    17649 non-null  float64\n",
      " 15  Price           24130 non-null  float64\n",
      "dtypes: float64(12), object(4)\n",
      "memory usage: 3.1+ MB\n"
     ]
    }
   ],
   "source": [
    "df.info()"
   ]
  },
  {
   "cell_type": "markdown",
   "id": "a4c14426",
   "metadata": {},
   "source": [
    "We can see that except the columns \"State\", \"City\", \"Zipcode\", \"Latitude\" and \"Longitude\", other columns contain some missing values, and may need to change or keep depending on the situation, which will be addressed in the following sections."
   ]
  },
  {
   "cell_type": "markdown",
   "id": "1696810f",
   "metadata": {},
   "source": [
    "## 2.2: Cleaning by Column"
   ]
  },
  {
   "cell_type": "markdown",
   "id": "cb121702",
   "metadata": {},
   "source": [
    "### 2.2.1: State and Zipcode"
   ]
  },
  {
   "cell_type": "markdown",
   "id": "a14b1ac0",
   "metadata": {},
   "source": [
    "Even though it looks like the \"State\" and \"Zipcode\" columns are complete, it's a good idea to double-check if all the information makes sense. We want to make sure that the states are listed correctly and that the ZIP codes are in the right numeric format. This check ensures that our dataset has accurate location details, which is important for any comparisons between states later on in the project."
   ]
  },
  {
   "cell_type": "code",
   "execution_count": 8,
   "id": "193618b8",
   "metadata": {},
   "outputs": [],
   "source": [
    "abbr_excel = pd.read_excel('State Abbreviations.xlsx', index_col=1)\n",
    "abbr_list = abbr_excel.index.values\n",
    "zipcode_first = abbr_excel.to_dict()['Zipcode first digit']"
   ]
  },
  {
   "cell_type": "code",
   "execution_count": 9,
   "id": "8bd8527d",
   "metadata": {},
   "outputs": [
    {
     "name": "stdout",
     "output_type": "stream",
     "text": [
      "All states in the datasets are valid.\n"
     ]
    }
   ],
   "source": [
    "# Check if State is valid\n",
    "if set(df['State'].unique()).issubset(set(abbr_list)):\n",
    "    print('All states in the datasets are valid.')\n",
    "else:\n",
    "    print('Some states are invalid.')"
   ]
  },
  {
   "cell_type": "code",
   "execution_count": 10,
   "id": "57351d3f",
   "metadata": {},
   "outputs": [],
   "source": [
    "# Change Zipcode to str\n",
    "# Put 0 at the front for 4-digit zipcode\n",
    "df['Zipcode'] = df['Zipcode'].astype(int).astype(str).apply(lambda x: '0'+x if len(x) == 4 else x)"
   ]
  },
  {
   "cell_type": "code",
   "execution_count": 11,
   "id": "519fc064",
   "metadata": {
    "scrolled": false
   },
   "outputs": [
    {
     "name": "stdout",
     "output_type": "stream",
     "text": [
      "All zipcodes belong to their states.\n"
     ]
    }
   ],
   "source": [
    "# Check if zipcode is valid\n",
    "zipcode_check = df[\n",
    "    (df['Zipcode'].apply(lambda x: int(x[0])) - df['State'].apply(lambda x: zipcode_first[x]) != 0) &\n",
    "    ~((df['State'] == 'NY') & (df['Zipcode'].apply(lambda x: x[0]) == '1')) # First digit zipcode for NY can either be 0 (in abbr_excel) or 1\n",
    "]\n",
    "\n",
    "if len(zipcode_check) == 0:\n",
    "    print('All zipcodes belong to their states.')\n",
    "else:\n",
    "    print('Some zipcodes do not belong to their states.')"
   ]
  },
  {
   "cell_type": "markdown",
   "id": "a031ded3",
   "metadata": {},
   "source": [
    "### 2.2.2: City & Street"
   ]
  },
  {
   "cell_type": "code",
   "execution_count": 12,
   "id": "9010ec6e",
   "metadata": {},
   "outputs": [],
   "source": [
    "df['City'] = df['City'].apply(str.strip)"
   ]
  },
  {
   "cell_type": "markdown",
   "id": "eaeed8eb",
   "metadata": {},
   "source": [
    "Some house listings lack information about the street address, which may not be essential for high-level analyses across individual states. However, when considering more detailed intra-state visualizations and comparisons in later stages, having complete \"Street\" data becomes more relevant. <br> <br>\n",
    "To improve the dataset's usability for users involved in intra-state assessments, it's recommended to clean and fill in any missing or incomplete entries in the \"Street\" column. Taking this proactive step ensures that the dataset is ready for future in-depth analyses, allowing users to have a more comprehensive and meaningful exploration of housing data across various states."
   ]
  },
  {
   "cell_type": "code",
   "execution_count": 13,
   "id": "9e98d31c",
   "metadata": {},
   "outputs": [],
   "source": [
    "# Replace NaN for Street\n",
    "df.loc[df[df['Street'].isna()].index, 'Street'] = '<No Street Provided>'"
   ]
  },
  {
   "cell_type": "code",
   "execution_count": 14,
   "id": "5fcfb613",
   "metadata": {},
   "outputs": [],
   "source": [
    "df['Street'] = df['Street'].apply(str.strip)"
   ]
  },
  {
   "cell_type": "code",
   "execution_count": 15,
   "id": "36470c4b",
   "metadata": {
    "scrolled": false
   },
   "outputs": [],
   "source": [
    "# We consider only the currently available listings\n",
    "# Remove 'Homes Available Soon' rows\n",
    "df.drop(df[df['Street'].apply(lambda x: True if 'Homes Available Soon' in x else False)].index, axis=0, inplace=True)"
   ]
  },
  {
   "cell_type": "markdown",
   "id": "78ad0b8e",
   "metadata": {},
   "source": [
    "### 2.2.3: Bedroom, Bathroom, Area"
   ]
  },
  {
   "cell_type": "code",
   "execution_count": 17,
   "id": "c45c0c29",
   "metadata": {},
   "outputs": [
    {
     "data": {
      "text/html": [
       "<div>\n",
       "<style scoped>\n",
       "    .dataframe tbody tr th:only-of-type {\n",
       "        vertical-align: middle;\n",
       "    }\n",
       "\n",
       "    .dataframe tbody tr th {\n",
       "        vertical-align: top;\n",
       "    }\n",
       "\n",
       "    .dataframe thead th {\n",
       "        text-align: right;\n",
       "    }\n",
       "</style>\n",
       "<table border=\"1\" class=\"dataframe\">\n",
       "  <thead>\n",
       "    <tr style=\"text-align: right;\">\n",
       "      <th></th>\n",
       "      <th>State</th>\n",
       "      <th>City</th>\n",
       "      <th>Street</th>\n",
       "      <th>Zipcode</th>\n",
       "      <th>Latitude</th>\n",
       "      <th>Longitude</th>\n",
       "      <th>Bedroom</th>\n",
       "      <th>Bathroom</th>\n",
       "      <th>Area</th>\n",
       "      <th>PPSq</th>\n",
       "      <th>LotArea</th>\n",
       "      <th>ConvertedLot</th>\n",
       "      <th>LotUnit</th>\n",
       "      <th>MarketEstimate</th>\n",
       "      <th>RentEstimate</th>\n",
       "      <th>Price</th>\n",
       "    </tr>\n",
       "  </thead>\n",
       "  <tbody>\n",
       "    <tr>\n",
       "      <th>374</th>\n",
       "      <td>AL</td>\n",
       "      <td>Ariton</td>\n",
       "      <td>Highway 231 NE</td>\n",
       "      <td>36311</td>\n",
       "      <td>31.581430</td>\n",
       "      <td>-85.77018</td>\n",
       "      <td>NaN</td>\n",
       "      <td>NaN</td>\n",
       "      <td>NaN</td>\n",
       "      <td>NaN</td>\n",
       "      <td>0.90</td>\n",
       "      <td>0.90</td>\n",
       "      <td>acres</td>\n",
       "      <td>NaN</td>\n",
       "      <td>NaN</td>\n",
       "      <td>30000.0</td>\n",
       "    </tr>\n",
       "    <tr>\n",
       "      <th>2457</th>\n",
       "      <td>CA</td>\n",
       "      <td>Madera</td>\n",
       "      <td>&lt;No Street Provided&gt;</td>\n",
       "      <td>93636</td>\n",
       "      <td>36.935925</td>\n",
       "      <td>-119.80851</td>\n",
       "      <td>NaN</td>\n",
       "      <td>0.0</td>\n",
       "      <td>NaN</td>\n",
       "      <td>NaN</td>\n",
       "      <td>80.37</td>\n",
       "      <td>80.37</td>\n",
       "      <td>acres</td>\n",
       "      <td>NaN</td>\n",
       "      <td>1500.0</td>\n",
       "      <td>1440000.0</td>\n",
       "    </tr>\n",
       "    <tr>\n",
       "      <th>2783</th>\n",
       "      <td>CO</td>\n",
       "      <td>Wiggins</td>\n",
       "      <td>144th Ave</td>\n",
       "      <td>80654</td>\n",
       "      <td>39.960526</td>\n",
       "      <td>-104.13577</td>\n",
       "      <td>NaN</td>\n",
       "      <td>NaN</td>\n",
       "      <td>NaN</td>\n",
       "      <td>NaN</td>\n",
       "      <td>237.75</td>\n",
       "      <td>237.75</td>\n",
       "      <td>acres</td>\n",
       "      <td>NaN</td>\n",
       "      <td>NaN</td>\n",
       "      <td>758000.0</td>\n",
       "    </tr>\n",
       "    <tr>\n",
       "      <th>2847</th>\n",
       "      <td>CO</td>\n",
       "      <td>Carbondale</td>\n",
       "      <td>Bald Eagle Way</td>\n",
       "      <td>81623</td>\n",
       "      <td>39.436733</td>\n",
       "      <td>-107.26491</td>\n",
       "      <td>NaN</td>\n",
       "      <td>0.0</td>\n",
       "      <td>3877.0</td>\n",
       "      <td>1050.0</td>\n",
       "      <td>0.50</td>\n",
       "      <td>0.50</td>\n",
       "      <td>acres</td>\n",
       "      <td>NaN</td>\n",
       "      <td>8000.0</td>\n",
       "      <td>4070850.0</td>\n",
       "    </tr>\n",
       "    <tr>\n",
       "      <th>2851</th>\n",
       "      <td>CO</td>\n",
       "      <td>Carbondale</td>\n",
       "      <td>Bald Eagle Way</td>\n",
       "      <td>81623</td>\n",
       "      <td>39.437046</td>\n",
       "      <td>-107.26602</td>\n",
       "      <td>NaN</td>\n",
       "      <td>0.0</td>\n",
       "      <td>3867.0</td>\n",
       "      <td>1050.0</td>\n",
       "      <td>0.50</td>\n",
       "      <td>0.50</td>\n",
       "      <td>acres</td>\n",
       "      <td>2532200.0</td>\n",
       "      <td>7899.0</td>\n",
       "      <td>4060350.0</td>\n",
       "    </tr>\n",
       "  </tbody>\n",
       "</table>\n",
       "</div>"
      ],
      "text/plain": [
       "     State        City                Street Zipcode   Latitude  Longitude  \\\n",
       "374     AL      Ariton        Highway 231 NE   36311  31.581430  -85.77018   \n",
       "2457    CA      Madera  <No Street Provided>   93636  36.935925 -119.80851   \n",
       "2783    CO     Wiggins             144th Ave   80654  39.960526 -104.13577   \n",
       "2847    CO  Carbondale        Bald Eagle Way   81623  39.436733 -107.26491   \n",
       "2851    CO  Carbondale        Bald Eagle Way   81623  39.437046 -107.26602   \n",
       "\n",
       "      Bedroom  Bathroom    Area    PPSq  LotArea  ConvertedLot LotUnit  \\\n",
       "374       NaN       NaN     NaN     NaN     0.90          0.90   acres   \n",
       "2457      NaN       0.0     NaN     NaN    80.37         80.37   acres   \n",
       "2783      NaN       NaN     NaN     NaN   237.75        237.75   acres   \n",
       "2847      NaN       0.0  3877.0  1050.0     0.50          0.50   acres   \n",
       "2851      NaN       0.0  3867.0  1050.0     0.50          0.50   acres   \n",
       "\n",
       "      MarketEstimate  RentEstimate      Price  \n",
       "374              NaN           NaN    30000.0  \n",
       "2457             NaN        1500.0  1440000.0  \n",
       "2783             NaN           NaN   758000.0  \n",
       "2847             NaN        8000.0  4070850.0  \n",
       "2851       2532200.0        7899.0  4060350.0  "
      ]
     },
     "execution_count": 17,
     "metadata": {},
     "output_type": "execute_result"
    }
   ],
   "source": [
    "df[df['Bedroom'].isna()].head()"
   ]
  },
  {
   "cell_type": "code",
   "execution_count": 18,
   "id": "c5302564",
   "metadata": {},
   "outputs": [
    {
     "data": {
      "text/plain": [
       "654"
      ]
     },
     "execution_count": 18,
     "metadata": {},
     "output_type": "execute_result"
    }
   ],
   "source": [
    "len(df[df['Bedroom'].isna()])"
   ]
  },
  {
   "cell_type": "markdown",
   "id": "a528b9e1",
   "metadata": {},
   "source": [
    "It has been observed that a portion of the dataset contains null values in the fields representing the number of bedrooms, bathrooms, and area. Upon closer examination of several listings on Zillow, it became apparent that the reasons for these null values are not consistent. <br> For instance, the 374th listing pertains to a land plot without any constructed house, rendering the mentioned columns irrelevant. On the other hand, the absence of values in the 2847th listing is attributed to a data entry error, where the seller specified the number of bedrooms and bathrooms solely in the description. In rare instances, certain houses indeed lack bedrooms and bathrooms. <br> <br>\n",
    "Given that the primary goal of this project is to offer an overview of the housing market, and considering that the proportion of missing values is relatively small (around 2%), a pragmatic approach is to designate these values as \"No Input.\" This strategy minimizes the impact on reporting while effectively addressing the varied nature of missing data in the dataset."
   ]
  },
  {
   "cell_type": "markdown",
   "id": "c317efc2",
   "metadata": {},
   "source": [
    "### 2.2.4: Lot Area"
   ]
  },
  {
   "cell_type": "markdown",
   "id": "a633e3c7",
   "metadata": {},
   "source": [
    "The columns \"LotArea\", \"ConvertedLot\" and \"LotUnit\" can be combined into one using the same unit, acres."
   ]
  },
  {
   "cell_type": "code",
   "execution_count": 19,
   "id": "bb9d4127",
   "metadata": {},
   "outputs": [],
   "source": [
    "df.drop(columns=['LotArea', 'LotUnit'], axis=1, inplace=True)\n",
    "df.rename(columns={\"ConvertedLot\": \"LotAreaAcres\"}, inplace=True)"
   ]
  },
  {
   "cell_type": "markdown",
   "id": "e069ab47",
   "metadata": {},
   "source": [
    "### 2.2.5: Price"
   ]
  },
  {
   "cell_type": "markdown",
   "id": "8bd81313",
   "metadata": {},
   "source": [
    "House prices are a pivotal feature in our analysis for obtaining a comprehensive overview. Therefore, we are making efforts to estimate prices for missing values and rectify any unreasonable values in this column. This proactive approach aims to enhance the accuracy of our analysis, ensuring that the dataset is as reliable as possible for gaining meaningful insights into the housing market."
   ]
  },
  {
   "cell_type": "code",
   "execution_count": 20,
   "id": "fb73d4e5",
   "metadata": {},
   "outputs": [],
   "source": [
    "# Replace NaN Price with MarketEstimate\n",
    "target_df = df[(df['Price'].isna()) & (df['MarketEstimate'].notna())]\n",
    "df.loc[target_df.index, 'Price'] = df.loc[target_df.index, 'MarketEstimate']\n",
    "\n",
    "# Replace NaN Price and no MarketEstimate with Area * PPSq\n",
    "target_df = df[(df['Price'].isna()) & (df['Area'].notna()) & (df['PPSq'].notna())]\n",
    "df.loc[target_df.index, 'Price'] = df.loc[target_df.index, 'Area'] * df.loc[target_df.index, 'PPSq']\n",
    "\n",
    "# Drop NaN Price\n",
    "df.drop(df[df['Price'].isna()].index, axis=0, inplace=True)"
   ]
  },
  {
   "cell_type": "code",
   "execution_count": 22,
   "id": "e8d621a1",
   "metadata": {},
   "outputs": [],
   "source": [
    "# Replace unreasonable low Price (0, 1 or lower than RentEstimate) with MarketEstimate\n",
    "target_df = df[((df['Price'] <= 1) | (df['Price'] <= df['RentEstimate'])) & (df['MarketEstimate'].notna())]\n",
    "df.loc[target_df.index, 'Price'] = df.loc[target_df.index, 'MarketEstimate']\n",
    "\n",
    "# Replace unreasonable low Price and no MarketEstimate with Area * PPSq\n",
    "target_df = df[((df['Price'] <= 1) | (df['Price'] <= df['RentEstimate'])) & (df['MarketEstimate'].isna()) & (df['Area'].notna()) & (df['PPSq'].notna())]\n",
    "df.loc[target_df.index, 'Price'] = df.loc[target_df.index, 'Area'] * df.loc[target_df.index, 'PPSq']\n",
    "\n",
    "# Drop unreasonable low Price\n",
    "target_df = df[(df['Price'] <= 1) | (df['Price'] <= df['RentEstimate'])]\n",
    "df.drop(target_df.index, axis=0, inplace=True)"
   ]
  },
  {
   "cell_type": "markdown",
   "id": "538b6a39",
   "metadata": {},
   "source": [
    "## 2.3: Export Cleaned Dataframe"
   ]
  },
  {
   "cell_type": "code",
   "execution_count": 23,
   "id": "b2020862",
   "metadata": {},
   "outputs": [],
   "source": [
    "df.to_csv('cleaned_df.csv')"
   ]
  },
  {
   "cell_type": "markdown",
   "id": "fc92996b",
   "metadata": {},
   "source": [
    "# 3: Data Visualization"
   ]
  },
  {
   "cell_type": "markdown",
   "id": "1fe26c5d",
   "metadata": {},
   "source": [
    "Once the dataset is cleaned, we will visualize the data using Power BI. The interactive dashboard is accessible through the provided pbix file, allowing users to explore the data dynamically. Alternatively, the following snapshots offer a glimpse into the dashboard, providing key insights derived from the analysis."
   ]
  },
  {
   "cell_type": "markdown",
   "id": "6428f593",
   "metadata": {},
   "source": [
    "## 3.1: Summary"
   ]
  },
  {
   "cell_type": "markdown",
   "id": "94019b1a",
   "metadata": {},
   "source": [
    "In total, our dataset comprises 24,070 listings across the United States, with a median house price of \\\\$335,000. The dashboard employs a United States color map to illustrate housing prices in different states, where a more goldish color indicates a higher price and a more bronze hue signifies a more affordable price. Users can hover over each state to view its specific median house price. <br> <br>\n",
    "In the top right-hand corners of the dashboard, a succinct summary showcases the top three most expensive and top three most affordable states in the U.S. As of 2023, California, Colorado, and Massachusetts lead in median house prices, ranging from \\\\$550,000 to \\\\$805,000. Conversely, West Virginia, Mississippi, and Ohio emerge as the most affordable states, with median prices ranging from \\\\$190,000 to \\\\$225,000."
   ]
  },
  {
   "cell_type": "markdown",
   "id": "a5aaf75a",
   "metadata": {},
   "source": [
    "<img src=\"Snapshots/Main_Median.png\"/>"
   ]
  },
  {
   "cell_type": "markdown",
   "id": "bb6032a8",
   "metadata": {},
   "source": [
    "As we delve into the data, it becomes evident that the average (arithmetic mean) of house prices significantly exceeds the median, indicating a right-skewed distribution — a common characteristic in housing price data. To accommodate user preferences, the dashboard provides an option to switch between metrics, allowing users to choose between median and average values. However, it is strongly recommended to use the \"Median\" metric, as it provides a more accurate reflection of central tendency for right-skewed data. The \"Average\" metric may be influenced by extreme values. <br> <br>\n",
    "Under the \"Average\" mode, the overall average house price for the U.S. increases to \\\\$532,000. Montana and Nevada join California as the top three states with the highest average prices, while the top three most affordable states remain unchanged."
   ]
  },
  {
   "cell_type": "markdown",
   "id": "97037d07",
   "metadata": {},
   "source": [
    "<img src=\"Snapshots/Main_Average.png\"/>"
   ]
  },
  {
   "cell_type": "markdown",
   "id": "016c2bcb",
   "metadata": {},
   "source": [
    "## 3.2: Filters"
   ]
  },
  {
   "cell_type": "markdown",
   "id": "118bacfb",
   "metadata": {},
   "source": [
    "The dashboard is enhanced with a set of filters on the left, empowering users to select their preferred features for analysis. The color map dynamically adjusts to display price trends across different states based on the selected features.\n",
    "\n",
    "For instance, when filtering for a budget of \\\\$500,000, there are 1,133 available house listings ranging from 1,000 to 1,500 sqft with 1-2 bedrooms and bathrooms across the U.S. The median price for these listings is \\\\$239,000, providing users with a focused and customized view of the housing market based on their specified criteria."
   ]
  },
  {
   "cell_type": "markdown",
   "id": "bf2ae5d1",
   "metadata": {},
   "source": [
    "<img src=\"Snapshots/Filtered_1.png\"/>"
   ]
  },
  {
   "cell_type": "markdown",
   "id": "8a696832",
   "metadata": {},
   "source": [
    "Here's another example of using filters in the dashboard."
   ]
  },
  {
   "cell_type": "markdown",
   "id": "b1383de5",
   "metadata": {},
   "source": [
    "<img src=\"Snapshots/Filtered_2.png\"/>"
   ]
  },
  {
   "cell_type": "markdown",
   "id": "ebb8ca0d",
   "metadata": {},
   "source": [
    "## 3.3: Findings"
   ]
  },
  {
   "cell_type": "markdown",
   "id": "43e2e105",
   "metadata": {},
   "source": [
    "Upon exploration of the dashboard, several key insights on U.S. housing prices in 2023 have emerged from the data: <br>\n",
    "- The significant difference between the average and median prices suggests a right-skewed distribution in U.S. housing prices. This is common in real estate markets where luxury properties can significantly drive up the average price. <br> <br>\n",
    "- There is a trend of higher housing prices on the west coast, followed by the east coast, while the central part of the country tends to offer more affordable housing options. The higher prices may be attributed to factors like booming tech industries, urbanization, and desirable living conditions. <br> <br>\n",
    "- Contrary to expectations, New York, despite being a globally renowned business center, does not boast the highest housing prices compared to other U.S. states. The observation may stem from the fact that New York accommodates a broad range of housing options, not solely consisting of high-end properties. Additionally, factors like neighborhood characteristics and accessibility can contribute to varied housing prices within the state. <br> <br>\n",
    "- Colorado, situated in the central part of the U.S., exhibits relatively higher housing prices compared to states with a similar geographical location. This could be influenced by its appeal as a destination with a strong economy, outdoor recreational opportunities, and an overall high quality of life. Factors such as population growth, limited housing supply, and increased demand for desirable locations within the state may contribute to the higher prices."
   ]
  },
  {
   "cell_type": "markdown",
   "id": "9a9a5713",
   "metadata": {},
   "source": [
    "# 4: Further Project Suggestions"
   ]
  },
  {
   "cell_type": "markdown",
   "id": "5557580e",
   "metadata": {},
   "source": [
    "These suggestions aim to deepen the insights gained from the current analysis and provide a foundation for more comprehensive and forward-looking investigations into the U.S. housing market. <br>\n",
    "\n",
    "- Intra-State Visualization and Analysis: Extend the analysis to include intra-state visualization and examination. This would involve exploring the housing market dynamics across various cities within a state, providing a more detailed perspective on regional variations and trends. <br><br>\n",
    "- Time-Series Analysis with Across-Year Data: Incorporate across-year data to perform time-series analysis. This approach allows for the identification of long-term trends, seasonal patterns, and potential cyclicality in housing prices. Examining changes over time can offer valuable insights into the market's evolution. <br><br>\n",
    "- Automated Web Scraping for Data Verification: Develop an automated web-scraping system to verify and correct missing or inaccurate values in the dataset. This proactive approach ensures data accuracy and maintains the dataset's reliability, contributing to more robust analyses. <br><br>\n",
    "- Price Prediction Model: Consider developing a price prediction model to forecast house prices based on given features. Machine learning models, such as regression algorithms, can be trained on historical data to predict future housing prices. This predictive model would be a valuable tool for both buyers and sellers in making informed decisions."
   ]
  },
  {
   "cell_type": "markdown",
   "id": "e84727a3",
   "metadata": {},
   "source": [
    "Please let me know if you have other suggestion as well. Thank you!"
   ]
  }
 ],
 "metadata": {
  "kernelspec": {
   "display_name": "Python 3 (ipykernel)",
   "language": "python",
   "name": "python3"
  },
  "language_info": {
   "codemirror_mode": {
    "name": "ipython",
    "version": 3
   },
   "file_extension": ".py",
   "mimetype": "text/x-python",
   "name": "python",
   "nbconvert_exporter": "python",
   "pygments_lexer": "ipython3",
   "version": "3.9.12"
  }
 },
 "nbformat": 4,
 "nbformat_minor": 5
}
